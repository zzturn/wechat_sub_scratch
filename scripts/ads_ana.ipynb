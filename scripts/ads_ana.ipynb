{
 "cells": [
  {
   "cell_type": "code",
   "execution_count": 10,
   "metadata": {
    "collapsed": false,
    "jupyter": {
     "outputs_hidden": false
    },
    "pycharm": {
     "name": "#%% import p\n"
    }
   },
   "outputs": [],
   "source": [
    "from collections import Counter\n",
    "\n",
    "import pandas as pd"
   ]
  },
  {
   "cell_type": "code",
   "execution_count": 2,
   "metadata": {},
   "outputs": [],
   "source": [
    "ads_path = \"../.files/datasets/ads.csv\"\n",
    "clean_ads_path = \"../.files/datasets/clean_ads.csv\""
   ]
  },
  {
   "cell_type": "code",
   "execution_count": 3,
   "metadata": {},
   "outputs": [],
   "source": [
    "clean_df = pd.read_csv(clean_ads_path)"
   ]
  },
  {
   "cell_type": "code",
   "execution_count": 6,
   "metadata": {},
   "outputs": [
    {
     "data": {
      "text/html": [
       "<div>\n",
       "<style scoped>\n",
       "    .dataframe tbody tr th:only-of-type {\n",
       "        vertical-align: middle;\n",
       "    }\n",
       "\n",
       "    .dataframe tbody tr th {\n",
       "        vertical-align: top;\n",
       "    }\n",
       "\n",
       "    .dataframe thead th {\n",
       "        text-align: right;\n",
       "    }\n",
       "</style>\n",
       "<table border=\"1\" class=\"dataframe\">\n",
       "  <thead>\n",
       "    <tr style=\"text-align: right;\">\n",
       "      <th></th>\n",
       "      <th>title</th>\n",
       "      <th>keywords</th>\n",
       "    </tr>\n",
       "  </thead>\n",
       "  <tbody>\n",
       "    <tr>\n",
       "      <th>0</th>\n",
       "      <td>为什么 Django 框架持续统治着 Python 开发？</td>\n",
       "      <td>django;开发;系统;产品;管理;架构;项目;功能;企业;粉丝;知识;定制;python...</td>\n",
       "    </tr>\n",
       "    <tr>\n",
       "      <th>1</th>\n",
       "      <td>2021年，字节跳动月薪50k招高级运营，这个要求过分吗？</td>\n",
       "      <td>数据;运营;数据分析;用户;模型;能力;提升;工作;内容;文案;职场;发现;粉丝;话题;可视...</td>\n",
       "    </tr>\n",
       "    <tr>\n",
       "      <th>2</th>\n",
       "      <td>推荐一个CV神器！</td>\n",
       "      <td>图像;搭建;cv;ai;模型;检测;学习;经验;领域;算法;计算机;深入;应用;分割;神经网...</td>\n",
       "    </tr>\n",
       "    <tr>\n",
       "      <th>3</th>\n",
       "      <td>字节跳动月薪6万招运营，看到要求我傻眼了！</td>\n",
       "      <td>数据;用户;数据分析;运营;业务;指标;需要;工具;能力;总结;提升;搭建;策略;指标体系;...</td>\n",
       "    </tr>\n",
       "    <tr>\n",
       "      <th>4</th>\n",
       "      <td>字节跳动月薪5万招产品经理，看到要求我傻眼了！</td>\n",
       "      <td>数据;产品;能力;问题;数据分析;经理;提升;分析;用户;业务;职场;发展;分析法;企业;工...</td>\n",
       "    </tr>\n",
       "    <tr>\n",
       "      <th>5</th>\n",
       "      <td>字节跳动月薪50k招高级运营，看到要求我傻眼了！</td>\n",
       "      <td>数据;运营;数据分析;提升;用户;能力;问题;分析;业务;职场;产品;分析法;增长;课程;模...</td>\n",
       "    </tr>\n",
       "    <tr>\n",
       "      <th>6</th>\n",
       "      <td>没有X生活的女人，都很穷</td>\n",
       "      <td>理财;女人;家庭;老公;投资;赚钱;课程;告诉;没钱;静文;学习;实现;人生;帮助;毕业;影...</td>\n",
       "    </tr>\n",
       "    <tr>\n",
       "      <th>7</th>\n",
       "      <td>字节跳动月薪3万招的岗位，看到要求我傻眼了！</td>\n",
       "      <td>运营;课程;技能;活动;营长;内容;成长;同学;学习;老师;面试;社群;能力;维度;实现;知...</td>\n",
       "    </tr>\n",
       "    <tr>\n",
       "      <th>8</th>\n",
       "      <td>升级版《走遍美国》78集，每天抽空看5分钟，英语水平赶超9成中国人！</td>\n",
       "      <td>英语;老师;学习;美国;团员;走遍;领取;需要;名额;课程;流利;八级;二维码;辅导;暴走;...</td>\n",
       "    </tr>\n",
       "    <tr>\n",
       "      <th>9</th>\n",
       "      <td>面试题：谈谈Vue和React的区别？</td>\n",
       "      <td>react;组件;数据;进行;vue;dom;需要;复杂度;节点;源码;算法;实现;核心;d...</td>\n",
       "    </tr>\n",
       "  </tbody>\n",
       "</table>\n",
       "</div>"
      ],
      "text/plain": [
       "                                title  \\\n",
       "0       为什么 Django 框架持续统治着 Python 开发？   \n",
       "1       2021年，字节跳动月薪50k招高级运营，这个要求过分吗？   \n",
       "2                           推荐一个CV神器！   \n",
       "3               字节跳动月薪6万招运营，看到要求我傻眼了！   \n",
       "4             字节跳动月薪5万招产品经理，看到要求我傻眼了！   \n",
       "5            字节跳动月薪50k招高级运营，看到要求我傻眼了！   \n",
       "6                        没有X生活的女人，都很穷   \n",
       "7              字节跳动月薪3万招的岗位，看到要求我傻眼了！   \n",
       "8  升级版《走遍美国》78集，每天抽空看5分钟，英语水平赶超9成中国人！   \n",
       "9                 面试题：谈谈Vue和React的区别？   \n",
       "\n",
       "                                            keywords  \n",
       "0  django;开发;系统;产品;管理;架构;项目;功能;企业;粉丝;知识;定制;python...  \n",
       "1  数据;运营;数据分析;用户;模型;能力;提升;工作;内容;文案;职场;发现;粉丝;话题;可视...  \n",
       "2  图像;搭建;cv;ai;模型;检测;学习;经验;领域;算法;计算机;深入;应用;分割;神经网...  \n",
       "3  数据;用户;数据分析;运营;业务;指标;需要;工具;能力;总结;提升;搭建;策略;指标体系;...  \n",
       "4  数据;产品;能力;问题;数据分析;经理;提升;分析;用户;业务;职场;发展;分析法;企业;工...  \n",
       "5  数据;运营;数据分析;提升;用户;能力;问题;分析;业务;职场;产品;分析法;增长;课程;模...  \n",
       "6  理财;女人;家庭;老公;投资;赚钱;课程;告诉;没钱;静文;学习;实现;人生;帮助;毕业;影...  \n",
       "7  运营;课程;技能;活动;营长;内容;成长;同学;学习;老师;面试;社群;能力;维度;实现;知...  \n",
       "8  英语;老师;学习;美国;团员;走遍;领取;需要;名额;课程;流利;八级;二维码;辅导;暴走;...  \n",
       "9  react;组件;数据;进行;vue;dom;需要;复杂度;节点;源码;算法;实现;核心;d...  "
      ]
     },
     "execution_count": 6,
     "metadata": {},
     "output_type": "execute_result"
    }
   ],
   "source": [
    "clean_df.head(10)"
   ]
  },
  {
   "cell_type": "code",
   "execution_count": 8,
   "metadata": {},
   "outputs": [],
   "source": [
    "all_data = []\n",
    "\n",
    "for each in clean_df[\"keywords\"].values.tolist():\n",
    "    all_data.extend(each.split(\";\"))"
   ]
  },
  {
   "cell_type": "code",
   "execution_count": 11,
   "metadata": {},
   "outputs": [],
   "source": [
    "count_data = Counter(all_data)"
   ]
  },
  {
   "cell_type": "code",
   "execution_count": 17,
   "metadata": {},
   "outputs": [
    {
     "data": {
      "text/plain": [
       "[('学习', 33),\n",
       " ('课程', 30),\n",
       " ('大家', 25),\n",
       " ('能力', 22),\n",
       " ('数据', 20),\n",
       " ('问题', 20),\n",
       " ('大厂', 20),\n",
       " ('面试', 19),\n",
       " ('工作', 18),\n",
       " ('项目', 16),\n",
       " ('数据分析', 16),\n",
       " ('业务', 16),\n",
       " ('老师', 16),\n",
       " ('技术', 16),\n",
       " ('没有', 15),\n",
       " ('公司', 14),\n",
       " ('掌握', 13),\n",
       " ('算法', 13),\n",
       " ('分析', 13),\n",
       " ('工具', 12),\n",
       " ('产品', 11),\n",
       " ('提升', 11),\n",
       " ('需要', 11),\n",
       " ('用户', 10),\n",
       " ('直播', 10),\n",
       " ('核心', 10),\n",
       " ('开发', 9),\n",
       " ('企业', 9),\n",
       " ('知识', 9),\n",
       " ('运营', 9),\n",
       " ('职场', 9),\n",
       " ('实战', 9),\n",
       " ('服务', 9),\n",
       " ('免费', 9),\n",
       " ('模型', 8),\n",
       " ('内容', 8),\n",
       " ('朋友', 8),\n",
       " ('java', 8),\n",
       " ('python', 7),\n",
       " ('可视化', 7)]"
      ]
     },
     "execution_count": 17,
     "metadata": {},
     "output_type": "execute_result"
    }
   ],
   "source": [
    "count_data.most_common(40)"
   ]
  },
  {
   "cell_type": "code",
   "execution_count": null,
   "metadata": {},
   "outputs": [],
   "source": []
  }
 ],
 "metadata": {
  "kernelspec": {
   "display_name": "Python 3",
   "language": "python",
   "name": "python3"
  },
  "language_info": {
   "codemirror_mode": {
    "name": "ipython",
    "version": 3
   },
   "file_extension": ".py",
   "mimetype": "text/x-python",
   "name": "python",
   "nbconvert_exporter": "python",
   "pygments_lexer": "ipython3",
   "version": "3.7.3"
  }
 },
 "nbformat": 4,
 "nbformat_minor": 4
}
